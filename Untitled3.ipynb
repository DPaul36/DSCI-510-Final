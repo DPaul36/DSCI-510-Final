{
 "cells": [
  {
   "cell_type": "markdown",
   "id": "cba2ad58",
   "metadata": {},
   "source": [
    "# DSCI 510 Final Project\n",
    "# 2022 MLB Postseason with Statcast\n",
    "David Paul"
   ]
  },
  {
   "cell_type": "markdown",
   "id": "afd7f51a",
   "metadata": {},
   "source": [
    "The 2022 MLB Postseason was a mix of the most unexpected turn of events, followed by the most predictable ending for the sport. In a nutshell, the National League saw 3 juggernaut teams that were expected to make deep playoff runs get eliminated in the early rounds, while the American League saw a match-up in the Championship Series as predictable as the tides. In the end, the Houston Astros easily walked away with the World Series title, after cruising through the competition. Year after year with the MLB Postseason, we're left with the question of \"What went wrong\". For the Los Angeles Dodgers, who set an all-time franchise record for wins in the regular, only to lose in the first round of the playoffs to a team they routinely obliterated during the regular season, this question will keep them up at night well into next season.\n",
    "\n",
    "Since 2002 and shortly after in the movie \"MoneyBall\" with Brad Pitt and Jonah Hill, professional baseball has been on a path towards advanced analytics. Huge sets of data have been compiled and analyzed by teams around the league, and the behind the scenes play-by-play has morphed into one of the key components of the game. Since 2015, Statcast has been tracking every single pitch, and every single play in the MLB. The database for each pitch includes a 3-Dimensional release-point, release velocity, spin-rate, spin-axis, perceived velocity, and so much more. All of this data is available to every team, and it seems that the teams have become so good at analyzing all of this data for every single player, that teams know exaclty where to position each fielder for the optimal chance of preventing a hit. Surely, one could say, computers are playing the game for us.\n",
    "\n",
    "In recent years, we have seen the trend of hitters focusing on things like \"Launch Angle\" and \"Exit Velocity\", while not putting as much emphasis on the more traditional stats like Batting Average. in 1941, Ted Williams had a batting average of .406. This was the 27th time in MLB history that a player hit above .400 on the season, and it hasn't been done since. In fact, in 2022, the highest batting average in the league was .326, an entire 80 points lower than Ted William's mark. Every year, it seems the league batting average gets lower, while both strikeouts and homeruns have sky-rocketed. The league is seeing more homeruns every year than they did during the steroid era, and a guy by the name of Joey Gallo actually notched his 100th career homerun before he got his 100th career single. While the league has seemingly committed fully towards this game of analytics, it would be naive to assume that this is the key to building a championship team. In this project, I will answer the question, \"What went wrong\"."
   ]
  },
  {
   "cell_type": "markdown",
   "id": "d1bcdec4",
   "metadata": {},
   "source": [
    "#"
   ]
  },
  {
   "cell_type": "code",
   "execution_count": null,
   "id": "e6435a9c",
   "metadata": {},
   "outputs": [],
   "source": [
    "import Pitching_Plots\n",
    "import Batting_Plots"
   ]
  },
  {
   "cell_type": "code",
   "execution_count": null,
   "id": "2eaaf4d5",
   "metadata": {},
   "outputs": [],
   "source": []
  },
  {
   "cell_type": "code",
   "execution_count": null,
   "id": "77fb0b68",
   "metadata": {},
   "outputs": [],
   "source": []
  }
 ],
 "metadata": {
  "kernelspec": {
   "display_name": "Python 3",
   "language": "python",
   "name": "python3"
  },
  "language_info": {
   "codemirror_mode": {
    "name": "ipython",
    "version": 3
   },
   "file_extension": ".py",
   "mimetype": "text/x-python",
   "name": "python",
   "nbconvert_exporter": "python",
   "pygments_lexer": "ipython3",
   "version": "3.8.8"
  }
 },
 "nbformat": 4,
 "nbformat_minor": 5
}
